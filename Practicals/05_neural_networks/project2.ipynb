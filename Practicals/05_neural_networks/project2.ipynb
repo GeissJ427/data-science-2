{
 "cells": [
  {
   "cell_type": "code",
   "execution_count": 5,
   "id": "a2b4f75c",
   "metadata": {},
   "outputs": [
    {
     "ename": "ModuleNotFoundError",
     "evalue": "No module named 'torch'",
     "output_type": "error",
     "traceback": [
      "\u001b[1;31m---------------------------------------------------------------------------\u001b[0m",
      "\u001b[1;31mModuleNotFoundError\u001b[0m                       Traceback (most recent call last)",
      "Cell \u001b[1;32mIn[5], line 3\u001b[0m\n\u001b[0;32m      1\u001b[0m \u001b[38;5;66;03m# Train dataset load\u001b[39;00m\n\u001b[1;32m----> 3\u001b[0m \u001b[38;5;28;01mimport\u001b[39;00m\u001b[38;5;250m \u001b[39m\u001b[38;5;21;01mtorch\u001b[39;00m\n\u001b[0;32m      4\u001b[0m \u001b[38;5;28;01mfrom\u001b[39;00m\u001b[38;5;250m \u001b[39m\u001b[38;5;21;01mtorch\u001b[39;00m\u001b[38;5;21;01m.\u001b[39;00m\u001b[38;5;21;01mutils\u001b[39;00m\u001b[38;5;21;01m.\u001b[39;00m\u001b[38;5;21;01mdata\u001b[39;00m\u001b[38;5;250m \u001b[39m\u001b[38;5;28;01mimport\u001b[39;00m DataLoader\n\u001b[0;32m      5\u001b[0m \u001b[38;5;28;01mfrom\u001b[39;00m\u001b[38;5;250m \u001b[39m\u001b[38;5;21;01mtorchvision\u001b[39;00m\u001b[38;5;250m \u001b[39m\u001b[38;5;28;01mimport\u001b[39;00m transforms\n",
      "\u001b[1;31mModuleNotFoundError\u001b[0m: No module named 'torch'"
     ]
    }
   ],
   "source": [
    "# Train dataset load\n",
    "\n",
    "import torch\n",
    "from torch.utils.data import DataLoader\n",
    "from torchvision import transforms\n",
    "from torchvision.datasets import OxfordIIITPet\n",
    "\n",
    "try: # disable certificate verification, needed on MacOS\n",
    "    import ssl\n",
    "    ssl._create_default_https_context = ssl._create_unverified_context\n",
    "except ImportError:\n",
    "    pass  # SSL module not available, skipping workaround\n",
    "\n",
    "class SegmentationTransform:\n",
    "    def __init__(self, size=(256, 256)):\n",
    "        self.size = size\n",
    "        self.image_transform = transforms.Compose([\n",
    "            transforms.Resize(self.size),\n",
    "            transforms.ToTensor()\n",
    "        ])\n",
    "        self.mask_transform = transforms.Compose([\n",
    "            transforms.Resize(self.size, interpolation=transforms.InterpolationMode.NEAREST),\n",
    "            transforms.PILToTensor()\n",
    "        ])\n",
    "\n",
    "    def __call__(self, image, target):\n",
    "        image = self.image_transform(image)\n",
    "        target = self.mask_transform(target).squeeze(0).long() - 1  # [1, H, W] → [H, W], label remap\n",
    "        return image, target\n",
    "\n",
    "train_dataset = OxfordIIITPet(\n",
    "    root='.',\n",
    "    target_types='segmentation',\n",
    "    download=True,\n",
    "    transforms=SegmentationTransform(size=(256, 256))\n",
    ")\n",
    "\n",
    "batch_size = 32  # TODO: change to your needs\n",
    "\n",
    "train_loader = DataLoader(train_dataset, batch_size=batch_size, shuffle=True)"
   ]
  }
 ],
 "metadata": {
  "kernelspec": {
   "display_name": "Python 3",
   "language": "python",
   "name": "python3"
  },
  "language_info": {
   "codemirror_mode": {
    "name": "ipython",
    "version": 3
   },
   "file_extension": ".py",
   "mimetype": "text/x-python",
   "name": "python",
   "nbconvert_exporter": "python",
   "pygments_lexer": "ipython3",
   "version": "3.10.0"
  }
 },
 "nbformat": 4,
 "nbformat_minor": 5
}
