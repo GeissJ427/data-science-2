{
 "cells": [
  {
   "cell_type": "code",
   "id": "initial_id",
   "metadata": {
    "collapsed": true,
    "ExecuteTime": {
     "end_time": "2025-04-29T08:44:58.209233Z",
     "start_time": "2025-04-29T08:44:58.204405Z"
    }
   },
   "source": [
    "import torch\n",
    "import torch.nn as nn\n",
    "import torch.optim as optim\n",
    "from torchvision import datasets, transforms\n",
    "from torch.utils.data import DataLoader"
   ],
   "outputs": [],
   "execution_count": 7
  },
  {
   "metadata": {},
   "cell_type": "markdown",
   "source": [
    "# Create dataset and dataloader\n",
    "- we use MNIST \n",
    "- the dataset is downloaded (if not already present)\n",
    "- on MacOS some may encounter problem with certification when downloading the data, you can 'conda install -c conda-forge certifi' in your PyCharm Terminal and then "
   ],
   "id": "f7e4c1d7e3afcacb"
  },
  {
   "metadata": {
    "ExecuteTime": {
     "end_time": "2025-04-29T08:44:59.085961Z",
     "start_time": "2025-04-29T08:44:59.084036Z"
    }
   },
   "cell_type": "code",
   "source": [
    "try: # disable certificate verification, needed on MacOS\n",
    "    import ssl\n",
    "    ssl._create_default_https_context = ssl._create_unverified_context\n",
    "except ImportError:\n",
    "    pass  # SSL module not available, skipping workaround"
   ],
   "id": "3a66a0045a489c69",
   "outputs": [],
   "execution_count": 8
  },
  {
   "metadata": {
    "ExecuteTime": {
     "end_time": "2025-04-29T08:45:00.654080Z",
     "start_time": "2025-04-29T08:44:59.433438Z"
    }
   },
   "cell_type": "code",
   "source": [
    "temp_dataset = datasets.MNIST(root='./data', train=True, transform=transforms.ToTensor(), download=True)\n",
    "temp_loader = DataLoader(dataset=temp_dataset, batch_size=len(temp_dataset), shuffle=False)\n",
    "\n",
    "# Compute mean and std\n",
    "data_iter = iter(temp_loader)\n",
    "images, _ = next(iter(data_iter))  # Get all images\n",
    "\n",
    "mean, std = images.mean().item(), images.std().item()\n",
    "print(f'Mean {mean}')\n",
    "print(f'Mean {std}')"
   ],
   "id": "2c4ace53a4521350",
   "outputs": [
    {
     "name": "stdout",
     "output_type": "stream",
     "text": [
      "Mean 0.13066047430038452\n",
      "Mean 0.30810782313346863\n"
     ]
    }
   ],
   "execution_count": 9
  },
  {
   "metadata": {
    "ExecuteTime": {
     "end_time": "2025-04-29T08:45:18.998355Z",
     "start_time": "2025-04-29T08:45:18.967002Z"
    }
   },
   "cell_type": "code",
   "source": [
    "# MNIST dataset\n",
    "transform = transforms.Compose([\n",
    "    transforms.ToTensor(),\n",
    "    transforms.Normalize((mean,), (std,))\n",
    "])\n",
    "\n",
    "train_dataset = datasets.MNIST(root='./data', train=True, transform=transform, download=True)\n",
    "test_dataset = datasets.MNIST(root='./data', train=False, transform=transform, download=True)"
   ],
   "id": "bad6d6d55741626c",
   "outputs": [],
   "execution_count": 11
  },
  {
   "metadata": {},
   "cell_type": "markdown",
   "source": [
    "# Train model\n",
    "\n",
    "- define a model as a CNN class (see below), define your own architecture using CNNs\n",
    "- use regularization, optimizer, loss,... of your choice and define hyperparameters so that you obtain high accuracy"
   ],
   "id": "84faae9fb9899fb7"
  },
  {
   "metadata": {},
   "cell_type": "code",
   "outputs": [],
   "execution_count": null,
   "source": [
    "# Hyperparameters (add more)\n",
    "batch_size = ...\n",
    "learning_rate = ...\n",
    "epochs = ...\n",
    "hidden_sizes = ...\n",
    "\n",
    "# Device configuration\n",
    "device = torch.device(\"cuda\" if torch.cuda.is_available() else \"cpu\")"
   ],
   "id": "5f2e6ed3719a4c56"
  },
  {
   "metadata": {},
   "cell_type": "code",
   "outputs": [],
   "execution_count": null,
   "source": [
    "train_loader = DataLoader(dataset=train_dataset, batch_size=batch_size, shuffle=True)\n",
    "test_loader = DataLoader(dataset=test_dataset, batch_size=batch_size, shuffle=False)"
   ],
   "id": "868ef7081d0ba3c5"
  },
  {
   "metadata": {},
   "cell_type": "code",
   "outputs": [],
   "execution_count": null,
   "source": [
    "# CNN Model\n",
    "class CNN(nn.Module):\n",
    "    def __init__(self):\n",
    "        super(CNN, self).__init__()\n",
    "        ...\n",
    "\n",
    "    def forward(self, x):\n",
    "        ...\n",
    "\n",
    "model = CNN().to(device)"
   ],
   "id": "8d116a25363c1527"
  },
  {
   "metadata": {},
   "cell_type": "code",
   "outputs": [],
   "execution_count": null,
   "source": [
    "# Loss and optimizer\n",
    "criterion = ...\n",
    "optimizer = ...\n",
    "\n",
    "# Training loop\n",
    "for epoch in range(epochs):\n",
    "    model.train()\n",
    "    total_loss = 0\n",
    "    for images, labels in train_loader:\n",
    "        images, labels = images.to(device), labels.to(device)\n",
    "\n",
    "        outputs = model(images)\n",
    "        loss = criterion(outputs, labels)\n",
    "\n",
    "        optimizer.zero_grad()\n",
    "        loss.backward()\n",
    "        optimizer.step()\n",
    "\n",
    "        total_loss += loss.item()\n",
    "\n",
    "    print(f\"Epoch [{epoch+1}/{epochs}], Loss: {total_loss/len(train_loader):.4f}\")\n",
    "\n",
    "# Evaluation\n",
    "model.eval()\n",
    "correct = 0\n",
    "total = 0\n",
    "with torch.no_grad():\n",
    "    for images, labels in test_loader:\n",
    "        images, labels = images.to(device), labels.to(device)\n",
    "        outputs = model(images)\n",
    "        _, predicted = torch.max(outputs.data, 1)\n",
    "        total += labels.size(0)\n",
    "        correct += (predicted == labels).sum().item()\n",
    "\n",
    "print(f\"Test Accuracy: {100 * correct / total:.2f}%\")"
   ],
   "id": "17144038a6386cf0"
  }
 ],
 "metadata": {
  "kernelspec": {
   "display_name": "Python 3",
   "language": "python",
   "name": "python3"
  },
  "language_info": {
   "codemirror_mode": {
    "name": "ipython",
    "version": 2
   },
   "file_extension": ".py",
   "mimetype": "text/x-python",
   "name": "python",
   "nbconvert_exporter": "python",
   "pygments_lexer": "ipython2",
   "version": "2.7.6"
  }
 },
 "nbformat": 4,
 "nbformat_minor": 5
}
